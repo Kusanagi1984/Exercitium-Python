{
  "nbformat": 4,
  "nbformat_minor": 0,
  "metadata": {
    "colab": {
      "provenance": [],
      "authorship_tag": "ABX9TyMpmDfn43IrPOgVhPFI0Jcw",
      "include_colab_link": true
    },
    "kernelspec": {
      "name": "python3",
      "display_name": "Python 3"
    },
    "language_info": {
      "name": "python"
    }
  },
  "cells": [
    {
      "cell_type": "markdown",
      "metadata": {
        "id": "view-in-github",
        "colab_type": "text"
      },
      "source": [
        "<a href=\"https://colab.research.google.com/github/Kusanagi1984/Exercitium-Python/blob/main/AG1/elementos_comunes_listas.ipynb\" target=\"_parent\"><img src=\"https://colab.research.google.com/assets/colab-badge.svg\" alt=\"Open In Colab\"/></a>"
      ]
    },
    {
      "cell_type": "code",
      "source": [
        "A=[1,2,6,7,12,13,15]\n",
        "B=[2,3,4,7,13]\n",
        "res= []\n",
        "for num in A:\n",
        "    if num in B and num not in res:\n",
        "       res.append(num)\n",
        "print(res)"
      ],
      "metadata": {
        "colab": {
          "base_uri": "https://localhost:8080/"
        },
        "id": "I4c75L_Ba0OY",
        "outputId": "38de6785-f5ba-40bb-bd24-7b8f251f0fba"
      },
      "execution_count": null,
      "outputs": [
        {
          "output_type": "stream",
          "name": "stdout",
          "text": [
            "[2, 7, 13]\n"
          ]
        }
      ]
    },
    {
      "cell_type": "code",
      "source": [
        "A=[1,2,6,7,12,13,15]\n",
        "B=[2,3,4,7,13]\n",
        "SALIDA=[]\n",
        "for i in A:\n",
        "  for k in B:\n",
        "    if i==k:\n",
        "      SALIDA.append(i)\n",
        "print(SALIDA)\n",
        "\n"
      ],
      "metadata": {
        "colab": {
          "base_uri": "https://localhost:8080/"
        },
        "id": "eUv5AHQUbTUu",
        "outputId": "df53997b-7c01-4009-f60d-25e9ea33f1e7"
      },
      "execution_count": null,
      "outputs": [
        {
          "output_type": "stream",
          "name": "stdout",
          "text": [
            "[2, 7, 13]\n"
          ]
        }
      ]
    },
    {
      "cell_type": "code",
      "source": [
        "A=[1,2,6,7,12,13,15]\n",
        "B=[2,3,4,7,13]\n",
        "\n",
        "def listas(A,B):\n",
        "  res=[]\n",
        "  for num in A:\n",
        "    if num in B and num not in res:\n",
        "       res.append(num)\n",
        "  return res\n",
        "x=listas(A,B)\n",
        "print(x)"
      ],
      "metadata": {
        "colab": {
          "base_uri": "https://localhost:8080/"
        },
        "id": "gf-PngmwbtCT",
        "outputId": "eb08819e-9ed4-4a3b-9582-15de8f5fa424"
      },
      "execution_count": null,
      "outputs": [
        {
          "output_type": "stream",
          "name": "stdout",
          "text": [
            "[2, 7, 13]\n"
          ]
        }
      ]
    },
    {
      "cell_type": "code",
      "source": [
        "elementos_comunes = set(A) & set(B)\n",
        "print(elementos_comunes)"
      ],
      "metadata": {
        "colab": {
          "base_uri": "https://localhost:8080/"
        },
        "id": "0wLoIiAycmM2",
        "outputId": "7a8b2d1d-72f3-4e8b-fbff-f868ebfc25c7"
      },
      "execution_count": null,
      "outputs": [
        {
          "output_type": "stream",
          "name": "stdout",
          "text": [
            "{2, 13, 7}\n"
          ]
        }
      ]
    },
    {
      "cell_type": "code",
      "source": [
        "A=[1,2,6,7,12,13,15]\n",
        "B=[2,3,4,7,13]\n",
        "\n",
        "SALIDA=[]\n",
        "\n",
        "for i in A:\n",
        "  for k in B:\n",
        "     if i==k:\n",
        "      SALIDA.append(i)\n",
        "print(SALIDA)"
      ],
      "metadata": {
        "id": "98kH6bXLgRiZ",
        "colab": {
          "base_uri": "https://localhost:8080/"
        },
        "outputId": "4fbb7248-11cb-4faa-9b6a-cefbfc57d905"
      },
      "execution_count": 3,
      "outputs": [
        {
          "output_type": "stream",
          "name": "stdout",
          "text": [
            "[2, 7, 13]\n"
          ]
        }
      ]
    },
    {
      "cell_type": "code",
      "source": [],
      "metadata": {
        "id": "d_9rhy4g7F1c"
      },
      "execution_count": null,
      "outputs": []
    }
  ]
}